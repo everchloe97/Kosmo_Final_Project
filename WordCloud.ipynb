{
 "cells": [
  {
   "cell_type": "code",
   "execution_count": 1,
   "metadata": {},
   "outputs": [],
   "source": [
    "import cx_Oracle\n",
    "import os\n",
    "\n",
    "LOCATION = r\"C:\\instanctclient_19_11\"\n",
    "os.environ[\"PATH\"] = LOCATION + \";\" + os.environ[\"PATH\"]\n",
    "\n",
    "text = \"\"\n",
    "connect = cx_Oracle.connect(\"HR/1234@localhost:1521/xe\")\n",
    "cursor = connect.cursor()\n",
    "sql = \"SELECT * FROM board\"\n",
    "cursor.execute(sql)\n",
    "\n",
    "for row in cursor:\n",
    "    for i in range(len(row)):\n",
    "        if(row[5]!=None):\n",
    "            text += row[5].read()\n",
    "            text += \" \"\n",
    "\n",
    "cursor.close()\n",
    "connect.commit()\n",
    "connect.close()"
   ]
  },
  {
   "cell_type": "code",
   "execution_count": 8,
   "metadata": {},
   "outputs": [
    {
     "data": {
      "text/plain": [
       "<wordcloud.wordcloud.WordCloud at 0x1a58fb80af0>"
      ]
     },
     "execution_count": 8,
     "metadata": {},
     "output_type": "execute_result"
    }
   ],
   "source": [
    "from wordcloud import WordCloud\n",
    "import matplotlib.pyplot as plt\n",
    "import numpy as np\n",
    "from os import path\n",
    "import os\n",
    "from PIL import Image\n",
    "\n",
    "d = path.dirname(__file__) if \"__file__\" in locals() else os.getcwd()\n",
    "\n",
    "alice_mask = np.array(Image.open(path.join(d,\"cloud_img.png\")))\n",
    "\n",
    "wordcloud = WordCloud(font_path='font/NanumGothic.ttf', \\\n",
    "                      background_color='white',\\\n",
    "                      width=500,\\\n",
    "                      height=500,\\\n",
    "                      max_font_size=80)\n",
    "wordcloud.generate(text)\n",
    "wordcloud.to_file(\"D:/1_2021_Java_Bigdata/LJS_workspace/springwork/kostep/src/main/webapp/resources/wordCloud/wordCloud.png\")"
   ]
  },
  {
   "cell_type": "code",
   "execution_count": null,
   "metadata": {},
   "outputs": [],
   "source": []
  }
 ],
 "metadata": {
  "kernelspec": {
   "display_name": "Python 3",
   "language": "python",
   "name": "python3"
  },
  "language_info": {
   "codemirror_mode": {
    "name": "ipython",
    "version": 3
   },
   "file_extension": ".py",
   "mimetype": "text/x-python",
   "name": "python",
   "nbconvert_exporter": "python",
   "pygments_lexer": "ipython3",
   "version": "3.8.5"
  }
 },
 "nbformat": 4,
 "nbformat_minor": 4
}
