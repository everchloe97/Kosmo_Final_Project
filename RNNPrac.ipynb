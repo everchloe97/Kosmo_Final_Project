{
 "cells": [
  {
   "cell_type": "code",
   "execution_count": 1,
   "metadata": {},
   "outputs": [],
   "source": [
    "# 크롤링 라이브러리 임포트\n",
    "from selenium import webdriver\n",
    "from bs4 import BeautifulSoup\n",
    "from time import sleep\n",
    "import cx_Oracle as oci"
   ]
  },
  {
   "cell_type": "code",
   "execution_count": 2,
   "metadata": {},
   "outputs": [],
   "source": [
    "# 추가 / 정규식\n",
    "import re "
   ]
  },
  {
   "cell_type": "code",
   "execution_count": 3,
   "metadata": {},
   "outputs": [
    {
     "name": "stdout",
     "output_type": "stream",
     "text": [
      "텍스트를 입력해주세요 => The sky is blue\n"
     ]
    }
   ],
   "source": [
    "# hello guys my name is ray\n",
    "text = input(\"텍스트를 입력해주세요 => \")"
   ]
  },
  {
   "cell_type": "code",
   "execution_count": null,
   "metadata": {},
   "outputs": [],
   "source": [
    " def preprocess_sentence(text): \n",
    "    # 단어와 구두점 사이에 공백을 만듭니다.\n",
    "    # Ex) \"he is a boy.\" => \"he is a boy .\"\n",
    "    text = re.sub(r\"([?.!,¿])\", r\" \\1\", text)\n",
    "\n",
    "    # (a-z, A-Z, \".\", \"?\", \"!\", \",\") 이들을 제외하고는 전부 공백으로 변환합니다.\n",
    "    text = re.sub(r\"[^a-zA-Z!.?]+\", r\" \", text)\n",
    "\n",
    "    text = re.sub(r\"\\s+\", \" \", text)\n",
    "    return text"
   ]
  },
  {
   "cell_type": "code",
   "execution_count": 4,
   "metadata": {},
   "outputs": [
    {
     "name": "stdout",
     "output_type": "stream",
     "text": [
      "['The', 'sky', 'is', 'blue']\n",
      "['The sky is blue']\n"
     ]
    }
   ],
   "source": [
    "# 단어 별 쪼갠 문장 => textList / 입력한 문장 그대로 => textAll / \n",
    "textList = text.split(' ')\n",
    "textAll = []\n",
    "\n",
    "textAll.append(text)\n",
    "\n",
    "print(textList)\n",
    "print(textAll)"
   ]
  },
  {
   "cell_type": "code",
   "execution_count": 5,
   "metadata": {},
   "outputs": [],
   "source": [
    "driver = webdriver.Chrome('./webdriver/chromedriver.exe')\n",
    "driver.implicitly_wait(2)\n",
    "\n",
    "driver.get('https://papago.naver.com')"
   ]
  },
  {
   "cell_type": "code",
   "execution_count": 6,
   "metadata": {},
   "outputs": [
    {
     "name": "stdout",
     "output_type": "stream",
     "text": [
      "그\n",
      "하늘을 날다\n",
      "이다\n",
      "파랗게\n"
     ]
    }
   ],
   "source": [
    "wordList = []\n",
    "for word in textList:\n",
    "    inputWord = driver.find_element_by_name('txtSource')\n",
    "    inputWord.clear()\n",
    "    inputWord.send_keys(word)\n",
    "    sleep(2)\n",
    "    \n",
    "    html = driver.page_source\n",
    "    soup = BeautifulSoup(html,'html.parser')\n",
    "    meaning = soup.select('#txtTarget span')\n",
    "    print(meaning[0].text)\n",
    "    wordList.append(meaning[0].text)\n",
    "    "
   ]
  },
  {
   "cell_type": "code",
   "execution_count": 7,
   "metadata": {},
   "outputs": [
    {
     "name": "stdout",
     "output_type": "stream",
     "text": [
      "하늘이 파랗다.\n"
     ]
    }
   ],
   "source": [
    "# 전체 textAll을 파파고에서 실행시킨 것\n",
    "inputWord.clear()\n",
    "wordAll = []\n",
    "for word in textAll:\n",
    "    inputWord = driver.find_element_by_name('txtSource')\n",
    "    inputWord.send_keys(word)\n",
    "    sleep(5)\n",
    "    \n",
    "    html = driver.page_source\n",
    "    soup = BeautifulSoup(html,'html.parser')\n",
    "    meaning = soup.select('#txtTarget span')\n",
    "    print(meaning[0].text)\n",
    "    wordAll.append(meaning[0].text)"
   ]
  },
  {
   "cell_type": "markdown",
   "metadata": {},
   "source": [
    "#문장 번역 기준 (re 정규식 활용해서 정하기)"
   ]
  },
  {
   "cell_type": "code",
   "execution_count": 10,
   "metadata": {},
   "outputs": [
    {
     "name": "stdout",
     "output_type": "stream",
     "text": [
      "그 하늘을 날다 이다 파랗게 \n",
      "['하늘이 파랗다.']\n"
     ]
    }
   ],
   "source": [
    "# split 한 번역 / 원 번역문\n",
    "for word in wordList:\n",
    "    print(word,end=\" \")\n",
    "print()\n",
    "print(wordAll)"
   ]
  },
  {
   "cell_type": "code",
   "execution_count": null,
   "metadata": {},
   "outputs": [],
   "source": [
    "'''\n",
    "스텝\n",
    "100% CLEAR\n",
    "1. 영어를 input 받으면 그 데이터들을 분할하여 단어별로 정렬 \n",
    "\n",
    "50% CLEAR\n",
    "2. 정렬한 단어들을 가지고 있는 사전들의 단어들과 붙인다.\n",
    "\n",
    "0% CLEAR\n",
    "3. 가져온 단어들에 대한 데이터들을 원하는 데이터로 바꾼다 **여기서도 올바른 데이터들을 인공지능으로 넣어줘야 하나?\n",
    "    ex) name => (명사) 이름 (O)\n",
    "    ex) name => (동사) 이름을 짓다 (x)\n",
    "\n",
    "10% CLEAR\n",
    "4. 기존의 rnn으로 학습한 것으로 올바른 순서를 맞춘다.\n",
    "빅데이터 필요.(금요일=>뉴스 사이트 크롤링해서 데이터 뽑아와서 빅데이터화. 코랩 사용. \n",
    "그걸 비교 검증. 영어/한국어 순서 다르니\n",
    "패턴을 확립해야 함. 기본 패턴. The sky (붙이는 거...) / 1)안쪼갠결과 2)쪼개서나온결과 => 한글로 번역\n",
    "vs 빅데이터에 기반해서 번역한 것  // 비교 (같다)\n",
    ")\n",
    "<==숙지==>\n",
    "1) 우리가 최대한 1) THE SKY (스플릿하면 해석이 이상... 붙여야 A, THE 관사)\n",
    "? ! , => 공백처리 //// 최대한 많은 분류 기준 만드는 작업 \n",
    "2 ) 이미 있는 번역 데이터 셋 + 크롤링한 데이터 셋 => 파일로 \n"
   ]
  },
  {
   "cell_type": "code",
   "execution_count": null,
   "metadata": {},
   "outputs": [],
   "source": []
  }
 ],
 "metadata": {
  "kernelspec": {
   "display_name": "Python 3",
   "language": "python",
   "name": "python3"
  },
  "language_info": {
   "codemirror_mode": {
    "name": "ipython",
    "version": 3
   },
   "file_extension": ".py",
   "mimetype": "text/x-python",
   "name": "python",
   "nbconvert_exporter": "python",
   "pygments_lexer": "ipython3",
   "version": "3.8.8"
  }
 },
 "nbformat": 4,
 "nbformat_minor": 4
}
